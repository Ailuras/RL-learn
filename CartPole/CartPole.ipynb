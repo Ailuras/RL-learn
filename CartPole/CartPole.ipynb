{
 "cells": [
  {
   "cell_type": "markdown",
   "metadata": {},
   "source": [
    "Q-learning"
   ]
  },
  {
   "cell_type": "code",
   "execution_count": 3,
   "metadata": {},
   "outputs": [
    {
     "name": "stderr",
     "output_type": "stream",
     "text": [
      "/home/hrcarryu/miniconda3/envs/RL/lib/python3.10/site-packages/gym/envs/classic_control/cartpole.py:163: UserWarning: \u001b[33mWARN: You are calling 'step()' even though this environment has already returned done = True. You should always call 'reset()' once you receive 'done = True' -- any further steps are undefined behavior.\u001b[0m\n",
      "  logger.warn(\n"
     ]
    },
    {
     "ename": "SystemExit",
     "evalue": "",
     "output_type": "error",
     "traceback": [
      "An exception has occurred, use %tb to see the full traceback.\n",
      "\u001b[0;31mSystemExit\u001b[0m\n"
     ]
    },
    {
     "name": "stderr",
     "output_type": "stream",
     "text": [
      "/home/hrcarryu/miniconda3/envs/RL/lib/python3.10/site-packages/IPython/core/interactiveshell.py:3377: UserWarning: To exit: use 'exit', 'quit', or Ctrl-D.\n",
      "  warn(\"To exit: use 'exit', 'quit', or Ctrl-D.\", stacklevel=1)\n"
     ]
    }
   ],
   "source": [
    "import numpy as np\n",
    "import matplotlib.pyplot as plt\n",
    "import gym\n",
    "\n",
    "class CartPoleSolver():\n",
    "    \n",
    "    def __init__(self, gamma=1.0, epsilon=1.0, alpha=0.01, episodes=1000, batch_size=64, interval_num=6):\n",
    "        self.env = gym.make('CartPole-v1')\n",
    "        self.gamma = gamma # 折扣因子\n",
    "        self.epsilon = epsilon # 贪婪策略参数\n",
    "        self.alpha = alpha # 学习率\n",
    "        self.episodes = episodes # 决策序列长度\n",
    "        self.batch_size = batch_size # 训练次数\n",
    "        self.interval_num = interval_num # 连续变量转离散变量分为几段\n",
    "        \n",
    "        self.cp_bin = np.linspace(-2.4, 2.4, interval_num+1)[1: -1]\n",
    "        self.cv_bin = np.linspace(-3.0, 3.0, interval_num+1)[1: -1]\n",
    "        self.pa_bin = np.linspace(-0.5, 0.5, interval_num+1)[1: -1]\n",
    "        self.pv_bin = np.linspace(-2.0, 2.0, interval_num+1)[1: -1]\n",
    "\n",
    "        self.q_table = np.random.uniform(low=0, high=1, size=(interval_num**4, 3))\n",
    "        \n",
    "    def get_state_index(self, observation):\n",
    "        cart_pos, cart_v, pole_angle, pole_v = observation\n",
    "        \n",
    "        state_index = 0\n",
    "        state_index += np.digitize(cart_pos, bins = self.cp_bin) * (self.interval_num**3)\n",
    "        state_index += np.digitize(cart_v, bins = self.cv_bin) * (self.interval_num**2)\n",
    "        state_index += np.digitize(pole_angle, bins = self.pa_bin) * (self.interval_num**1)\n",
    "        state_index += np.digitize(pole_v, bins = self.pv_bin) * (self.interval_num**0)\n",
    "        \n",
    "        return state_index\n",
    "    \n",
    "    def update_Q_table(self, observation, action, reward, next_observation):        \n",
    "        state_index = self.get_state_index(observation)\n",
    "        next_state_index = self.digitize_state(next_observation)\n",
    "        \n",
    "        maxQ = max(self.q_table[next_state_index][:])\n",
    "        self.q_table[state_index, action] = self.q_table[state_index, action] + self.alpha * (reward + self.gamma*maxQ - self.q_table[state_index, action])\n",
    "        \n",
    "    def decide_action(self, observation, episode):\n",
    "        state = self.digitize_state(observation)\n",
    "        # epsilon = 0.5 * (1 / (episode + 1))\n",
    "        \n",
    "        if self.epsilon <= np.random.uniform(0, 1):\n",
    "            action = np.argmax(self.q_table[state][:])\n",
    "        else:\n",
    "            action = np.random.choice(3)\n",
    "            \n",
    "        return action"
   ]
  }
 ],
 "metadata": {
  "interpreter": {
   "hash": "ab4d63602da93bdf91a2bfeaf05c64f621c29aa4059f58758cfb44b9b483284c"
  },
  "kernelspec": {
   "display_name": "Python 3.10.4 ('RL')",
   "language": "python",
   "name": "python3"
  },
  "language_info": {
   "codemirror_mode": {
    "name": "ipython",
    "version": 3
   },
   "file_extension": ".py",
   "mimetype": "text/x-python",
   "name": "python",
   "nbconvert_exporter": "python",
   "pygments_lexer": "ipython3",
   "version": "3.10.4"
  },
  "orig_nbformat": 4
 },
 "nbformat": 4,
 "nbformat_minor": 2
}
